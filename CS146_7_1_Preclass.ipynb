{
  "nbformat": 4,
  "nbformat_minor": 0,
  "metadata": {
    "colab": {
      "name": "CS146 7.1 Preclass.ipynb",
      "provenance": []
    },
    "kernelspec": {
      "name": "python3",
      "display_name": "Python 3"
    }
  },
  "cells": [
    {
      "cell_type": "code",
      "metadata": {
        "id": "V_VxjIQ0uSRa",
        "colab_type": "code",
        "colab": {}
      },
      "source": [
        "import numpy as np\n",
        "from scipy import stats as sts\n",
        "import matplotlib.pyplot as plt"
      ],
      "execution_count": 0,
      "outputs": []
    },
    {
      "cell_type": "markdown",
      "metadata": {
        "id": "ROwkctHyoWBQ",
        "colab_type": "text"
      },
      "source": [
        "To model the $p$, we can model each sample in a survey as a bernoulli distribution. The $p$ would be the mean of the bernoulli distribution. For a sample size $n$, the mean of the $p$, $\\hat{p}$, would follow a normal distribution according to CLT. \n",
        "\n",
        "Therefore: $\\hat{p}\\sim N(p,\\frac{p(1-p)}{n})$, where $\\hat{p}$ is the parameter of the binomial distribution that models the entire survey.\n",
        "\n",
        "In this case, $n=1000$ and $p=0.1$"
      ]
    },
    {
      "cell_type": "code",
      "metadata": {
        "id": "w7bzBNWByCkw",
        "colab_type": "code",
        "outputId": "4ec03069-ce88-4525-fb55-f773a62aa63e",
        "colab": {
          "base_uri": "https://localhost:8080/",
          "height": 34
        }
      },
      "source": [
        "samples = sts.norm.rvs(0.1,0.3/1000**0.5,size=10000)\n",
        "\n",
        "print(\"Confidence interval is:\",np.percentile(samples,[2.5,97.5]))"
      ],
      "execution_count": 0,
      "outputs": [
        {
          "output_type": "stream",
          "text": [
            "Confidence interval is: [0.08158702 0.11832841]\n"
          ],
          "name": "stdout"
        }
      ]
    },
    {
      "cell_type": "markdown",
      "metadata": {
        "id": "0MRr5nd8rby2",
        "colab_type": "text"
      },
      "source": [
        "Therefore the error for $\\hat{p}$ would be +/- 0.018."
      ]
    },
    {
      "cell_type": "code",
      "metadata": {
        "id": "sAK3Fnh8rbGH",
        "colab_type": "code",
        "colab": {}
      },
      "source": [
        "def calculate_error(n,p):\n",
        "    samples = sts.norm.rvs(p,np.sqrt(p*(1-p)/n),size =10000)\n",
        "    conf_interv = np.percentile(samples,[2.5,97.5])\n",
        "    error = (conf_interv[1] - conf_interv[0])/2\n",
        "    return error"
      ],
      "execution_count": 0,
      "outputs": []
    },
    {
      "cell_type": "code",
      "metadata": {
        "id": "WvDuXbLRACgt",
        "colab_type": "code",
        "outputId": "01ed063b-f1b9-44ef-e524-0315fd28b05e",
        "colab": {
          "base_uri": "https://localhost:8080/",
          "height": 935
        }
      },
      "source": [
        "rangen = [100,250,500,750,1000]\n",
        "for p in np.arange(0.1,1.0,0.1):\n",
        "    print(\"Percentage at\", p*100, \"%\")\n",
        "    for n in rangen:\n",
        "        print(\"Error at sample size\", n, \"is:\" ,round(calculate_error(n,p)*100,2), \"%\")\n",
        "   "
      ],
      "execution_count": 0,
      "outputs": [
        {
          "output_type": "stream",
          "text": [
            "Percentage at 10.0 %\n",
            "Error at sample size 100 is: 5.84 %\n",
            "Error at sample size 250 is: 3.66 %\n",
            "Error at sample size 500 is: 2.65 %\n",
            "Error at sample size 750 is: 2.12 %\n",
            "Error at sample size 1000 is: 1.88 %\n",
            "Percentage at 20.0 %\n",
            "Error at sample size 100 is: 7.89 %\n",
            "Error at sample size 250 is: 5.01 %\n",
            "Error at sample size 500 is: 3.51 %\n",
            "Error at sample size 750 is: 2.88 %\n",
            "Error at sample size 1000 is: 2.47 %\n",
            "Percentage at 30.000000000000004 %\n",
            "Error at sample size 100 is: 9.04 %\n",
            "Error at sample size 250 is: 5.61 %\n",
            "Error at sample size 500 is: 4.04 %\n",
            "Error at sample size 750 is: 3.3 %\n",
            "Error at sample size 1000 is: 2.84 %\n",
            "Percentage at 40.0 %\n",
            "Error at sample size 100 is: 9.54 %\n",
            "Error at sample size 250 is: 6.12 %\n",
            "Error at sample size 500 is: 4.33 %\n",
            "Error at sample size 750 is: 3.55 %\n",
            "Error at sample size 1000 is: 2.99 %\n",
            "Percentage at 50.0 %\n",
            "Error at sample size 100 is: 9.82 %\n",
            "Error at sample size 250 is: 6.22 %\n",
            "Error at sample size 500 is: 4.39 %\n",
            "Error at sample size 750 is: 3.56 %\n",
            "Error at sample size 1000 is: 3.1 %\n",
            "Percentage at 60.0 %\n",
            "Error at sample size 100 is: 9.55 %\n",
            "Error at sample size 250 is: 6.06 %\n",
            "Error at sample size 500 is: 4.36 %\n",
            "Error at sample size 750 is: 3.53 %\n",
            "Error at sample size 1000 is: 3.05 %\n",
            "Percentage at 70.0 %\n",
            "Error at sample size 100 is: 8.86 %\n",
            "Error at sample size 250 is: 5.63 %\n",
            "Error at sample size 500 is: 4.02 %\n",
            "Error at sample size 750 is: 3.27 %\n",
            "Error at sample size 1000 is: 2.86 %\n",
            "Percentage at 80.0 %\n",
            "Error at sample size 100 is: 7.9 %\n",
            "Error at sample size 250 is: 4.99 %\n",
            "Error at sample size 500 is: 3.52 %\n",
            "Error at sample size 750 is: 2.85 %\n",
            "Error at sample size 1000 is: 2.45 %\n",
            "Percentage at 90.0 %\n",
            "Error at sample size 100 is: 5.88 %\n",
            "Error at sample size 250 is: 3.7 %\n",
            "Error at sample size 500 is: 2.63 %\n",
            "Error at sample size 750 is: 2.16 %\n",
            "Error at sample size 1000 is: 1.88 %\n"
          ],
          "name": "stdout"
        }
      ]
    }
  ]
}