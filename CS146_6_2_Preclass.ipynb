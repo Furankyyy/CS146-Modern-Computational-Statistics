{
  "nbformat": 4,
  "nbformat_minor": 0,
  "metadata": {
    "colab": {
      "name": "CS146 6.2 Preclass.ipynb",
      "provenance": []
    },
    "kernelspec": {
      "name": "python3",
      "display_name": "Python 3"
    }
  },
  "cells": [
    {
      "cell_type": "code",
      "metadata": {
        "id": "qeo60pNM-ccH",
        "colab_type": "code",
        "colab": {}
      },
      "source": [
        "import numpy as np\n",
        "import pandas as pd\n",
        "from scipy import stats\n",
        "\n",
        "data = pd.read_csv(\"https://gist.githubusercontent.com/cscheffler/482412b75d7b7c8ab83dd86e81d71403/raw/9ed65a9d2bb8455e4b225400f57f2d77f851aec9/socialmobility.csv\")"
      ],
      "execution_count": 0,
      "outputs": []
    },
    {
      "cell_type": "code",
      "metadata": {
        "id": "A-ZzzHSQ_Klg",
        "colab_type": "code",
        "outputId": "f4dfe285-00bc-442f-a951-023ef2a767fc",
        "colab": {
          "base_uri": "https://localhost:8080/",
          "height": 545
        }
      },
      "source": [
        "data"
      ],
      "execution_count": 0,
      "outputs": [
        {
          "output_type": "execute_result",
          "data": {
            "text/html": [
              "<div>\n",
              "<style scoped>\n",
              "    .dataframe tbody tr th:only-of-type {\n",
              "        vertical-align: middle;\n",
              "    }\n",
              "\n",
              "    .dataframe tbody tr th {\n",
              "        vertical-align: top;\n",
              "    }\n",
              "\n",
              "    .dataframe thead th {\n",
              "        text-align: right;\n",
              "    }\n",
              "</style>\n",
              "<table border=\"1\" class=\"dataframe\">\n",
              "  <thead>\n",
              "    <tr style=\"text-align: right;\">\n",
              "      <th></th>\n",
              "      <th>father</th>\n",
              "      <th>son</th>\n",
              "      <th>count</th>\n",
              "    </tr>\n",
              "  </thead>\n",
              "  <tbody>\n",
              "    <tr>\n",
              "      <th>0</th>\n",
              "      <td>farm</td>\n",
              "      <td>farm</td>\n",
              "      <td>703</td>\n",
              "    </tr>\n",
              "    <tr>\n",
              "      <th>1</th>\n",
              "      <td>farm</td>\n",
              "      <td>unskilled</td>\n",
              "      <td>1478</td>\n",
              "    </tr>\n",
              "    <tr>\n",
              "      <th>2</th>\n",
              "      <td>farm</td>\n",
              "      <td>skilled</td>\n",
              "      <td>1430</td>\n",
              "    </tr>\n",
              "    <tr>\n",
              "      <th>3</th>\n",
              "      <td>farm</td>\n",
              "      <td>professional</td>\n",
              "      <td>1109</td>\n",
              "    </tr>\n",
              "    <tr>\n",
              "      <th>4</th>\n",
              "      <td>unskilled</td>\n",
              "      <td>farm</td>\n",
              "      <td>58</td>\n",
              "    </tr>\n",
              "    <tr>\n",
              "      <th>5</th>\n",
              "      <td>unskilled</td>\n",
              "      <td>unskilled</td>\n",
              "      <td>1756</td>\n",
              "    </tr>\n",
              "    <tr>\n",
              "      <th>6</th>\n",
              "      <td>unskilled</td>\n",
              "      <td>skilled</td>\n",
              "      <td>1630</td>\n",
              "    </tr>\n",
              "    <tr>\n",
              "      <th>7</th>\n",
              "      <td>unskilled</td>\n",
              "      <td>professional</td>\n",
              "      <td>1568</td>\n",
              "    </tr>\n",
              "    <tr>\n",
              "      <th>8</th>\n",
              "      <td>skilled</td>\n",
              "      <td>farm</td>\n",
              "      <td>63</td>\n",
              "    </tr>\n",
              "    <tr>\n",
              "      <th>9</th>\n",
              "      <td>skilled</td>\n",
              "      <td>unskilled</td>\n",
              "      <td>1453</td>\n",
              "    </tr>\n",
              "    <tr>\n",
              "      <th>10</th>\n",
              "      <td>skilled</td>\n",
              "      <td>skilled</td>\n",
              "      <td>2068</td>\n",
              "    </tr>\n",
              "    <tr>\n",
              "      <th>11</th>\n",
              "      <td>skilled</td>\n",
              "      <td>professional</td>\n",
              "      <td>2483</td>\n",
              "    </tr>\n",
              "    <tr>\n",
              "      <th>12</th>\n",
              "      <td>professional</td>\n",
              "      <td>farm</td>\n",
              "      <td>61</td>\n",
              "    </tr>\n",
              "    <tr>\n",
              "      <th>13</th>\n",
              "      <td>professional</td>\n",
              "      <td>unskilled</td>\n",
              "      <td>749</td>\n",
              "    </tr>\n",
              "    <tr>\n",
              "      <th>14</th>\n",
              "      <td>professional</td>\n",
              "      <td>skilled</td>\n",
              "      <td>1183</td>\n",
              "    </tr>\n",
              "    <tr>\n",
              "      <th>15</th>\n",
              "      <td>professional</td>\n",
              "      <td>professional</td>\n",
              "      <td>3315</td>\n",
              "    </tr>\n",
              "  </tbody>\n",
              "</table>\n",
              "</div>"
            ],
            "text/plain": [
              "          father           son  count\n",
              "0           farm          farm    703\n",
              "1           farm     unskilled   1478\n",
              "2           farm       skilled   1430\n",
              "3           farm  professional   1109\n",
              "4      unskilled          farm     58\n",
              "5      unskilled     unskilled   1756\n",
              "6      unskilled       skilled   1630\n",
              "7      unskilled  professional   1568\n",
              "8        skilled          farm     63\n",
              "9        skilled     unskilled   1453\n",
              "10       skilled       skilled   2068\n",
              "11       skilled  professional   2483\n",
              "12  professional          farm     61\n",
              "13  professional     unskilled    749\n",
              "14  professional       skilled   1183\n",
              "15  professional  professional   3315"
            ]
          },
          "metadata": {
            "tags": []
          },
          "execution_count": 4
        }
      ]
    },
    {
      "cell_type": "code",
      "metadata": {
        "id": "26cVlK-vBcue",
        "colab_type": "code",
        "outputId": "0b55360f-df66-4674-f38b-2b86f72ef4af",
        "colab": {
          "base_uri": "https://localhost:8080/",
          "height": 34
        }
      },
      "source": [
        "\"\"\"data['p']= data['count']/data['count'].sum()\n",
        "data\"\"\""
      ],
      "execution_count": 0,
      "outputs": [
        {
          "output_type": "execute_result",
          "data": {
            "text/plain": [
              "\"data['p']= data['count']/data['count'].sum()\\ndata\""
            ]
          },
          "metadata": {
            "tags": []
          },
          "execution_count": 7
        }
      ]
    },
    {
      "cell_type": "code",
      "metadata": {
        "id": "iduME8AW_BDH",
        "colab_type": "code",
        "outputId": "bd528a86-d849-471e-a510-b804415c5769",
        "colab": {
          "base_uri": "https://localhost:8080/",
          "height": 289
        }
      },
      "source": [
        "prior_alpha = [1 for _ in range(len(data))]\n",
        "prior = stats.dirichlet(prior_alpha)\n",
        "\n",
        "posterior_alpha = [sum(x) for x in zip(prior_alpha, data[\"count\"])]\n",
        "posterior_alpha"
      ],
      "execution_count": 0,
      "outputs": [
        {
          "output_type": "execute_result",
          "data": {
            "text/plain": [
              "[704,\n",
              " 1479,\n",
              " 1431,\n",
              " 1110,\n",
              " 59,\n",
              " 1757,\n",
              " 1631,\n",
              " 1569,\n",
              " 64,\n",
              " 1454,\n",
              " 2069,\n",
              " 2484,\n",
              " 62,\n",
              " 750,\n",
              " 1184,\n",
              " 3316]"
            ]
          },
          "metadata": {
            "tags": []
          },
          "execution_count": 9
        }
      ]
    },
    {
      "cell_type": "code",
      "metadata": {
        "id": "xvq3XawpDT8X",
        "colab_type": "code",
        "outputId": "002262eb-f625-4d6b-a662-1c1abdd661a5",
        "colab": {
          "base_uri": "https://localhost:8080/",
          "height": 34
        }
      },
      "source": [
        "samples = stats.dirichlet.rvs(alpha=posterior_alpha,size=1000)\n",
        "\n",
        "father_unskilled_son_skilled = [samples[i][6] for i in range(1000)]\n",
        "marginal = [sum(samples[i][4:8]) for i in range(1000)]\n",
        "\n",
        "prob = np.divide(father_unskilled_son_skilled,marginal)\n",
        "\n",
        "interval = np.percentile(np.array(prob),[2.5,97.5])\n",
        "interval"
      ],
      "execution_count": 0,
      "outputs": [
        {
          "output_type": "execute_result",
          "data": {
            "text/plain": [
              "array([0.31151119, 0.33766943])"
            ]
          },
          "metadata": {
            "tags": []
          },
          "execution_count": 17
        }
      ]
    },
    {
      "cell_type": "code",
      "metadata": {
        "id": "DEF3_8ykH9hI",
        "colab_type": "code",
        "outputId": "02698c1e-3ef9-498c-cba2-3de3c859c818",
        "colab": {
          "base_uri": "https://localhost:8080/",
          "height": 34
        }
      },
      "source": [
        "father_farm_son_prof = [samples[i][3] for i in range(1000)]\n",
        "marginal2 = [sum(samples[i][0:4]) for i in range(1000)]\n",
        "\n",
        "prob2 = np.divide(father_farm_son_prof,marginal2)\n",
        "\n",
        "interval2 = np.percentile(np.array(prob2),[2.5,97.5])\n",
        "interval2"
      ],
      "execution_count": 0,
      "outputs": [
        {
          "output_type": "execute_result",
          "data": {
            "text/plain": [
              "array([0.2224749 , 0.24703683])"
            ]
          },
          "metadata": {
            "tags": []
          },
          "execution_count": 18
        }
      ]
    }
  ]
}