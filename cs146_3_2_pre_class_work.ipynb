{
  "nbformat": 4,
  "nbformat_minor": 0,
  "metadata": {
    "kernelspec": {
      "display_name": "Python 3",
      "language": "python",
      "name": "python3"
    },
    "language_info": {
      "codemirror_mode": {
        "name": "ipython",
        "version": 3
      },
      "file_extension": ".py",
      "mimetype": "text/x-python",
      "name": "python",
      "nbconvert_exporter": "python",
      "pygments_lexer": "ipython3",
      "version": "3.6.3"
    },
    "colab": {
      "name": "cs146-3.2-pre-class-work.ipynb",
      "provenance": []
    }
  },
  "cells": [
    {
      "cell_type": "markdown",
      "metadata": {
        "id": "fgjBD5mqWfNI",
        "colab_type": "text"
      },
      "source": [
        "# Making predictions and decisions with medical trial data\n",
        "\n",
        "We have data for 6 studies that have been done on the effect of *specific allergen immunotherapy* (SIT) on eczema and the following success rates have been observed. In each of the trials, the investigator rated whether each patient's condition improved or not.\n",
        "\n",
        "This data set is from the [Cochrane Database of Systematic Reviews](http://www.cochranelibrary.com/) article cited below, available for free [here](http://onlinelibrary.wiley.com/doi/10.1002/14651858.CD008774.pub2/full). The Cochrane Database is a great resource for high quality data on all sorts of medical trials.\n",
        "\n",
        "> Tam H., Calderon M.A., Manikam L., Nankervis H., García Núñez I., Williams H.C., Durham S., Boyle R.J. (2016). Specific allergen immunotherapy for the treatment of atopic eczema. *Cochrane Database of Systematic Reviews, Issue 2*. Art. No.: CD008774. DOI: 10.1002/14651858.CD008774.pub2.\n",
        "\n",
        "| Study          | Improved | Not improved |\n",
        "|:-------------- | --------:| ------------:|\n",
        "| Di Rienzo 2014 | 20       | 3            |\n",
        "| Galli 1994     | 10       | 6            |\n",
        "| Kaufman 1974   | 13       | 3            |\n",
        "| Qin 2014       | 35       | 10           |\n",
        "| Sanchez 2012   | 22       | 9            |\n",
        "| Silny 2006     | 7        | 3            |\n",
        "| **Totals**     | **107**  | **34**       |\n",
        "\n",
        "## Task 1: Modeling\n",
        "**Build a statistical model for this data set.** As your data, use the total number of patients improved (107) and not improved (34).\n",
        "\n",
        "**Steps in the modeling process:**\n",
        "1. Choose and motivate for an appropriate likelihood function for this type of data.\n",
        "    1. Make sure the support of your likelihood function matches the type of data we are working with.\n",
        "    2. Describe the unobserved parameter(s) of your model, and describe how it/they can be interpreted.\n",
        "2. Use a conjugate prior distribution for your likelihood function.\n",
        "    1. Select appropriate values for the prior hyperparameters and motivate your choice.\n",
        "    2. Visualize your prior distribution.\n",
        "3. Compute and visualize the posterior distribution over the unobserved parameter(s) of your model. Also describe what the posterior tells you about the parameter(s).\n",
        "\n",
        "Feel free to discuss this task with other students in the course, or attempt it on your own if you prefer. Discussing your modeling ideas with other students is a useful way to get feedback on your assumptions."
      ]
    },
    {
      "cell_type": "code",
      "metadata": {
        "id": "f3eoDmeAWfNJ",
        "colab_type": "code",
        "colab": {}
      },
      "source": [
        "import numpy as np\n",
        "import matplotlib.pyplot as plt\n",
        "from scipy import stats as sts"
      ],
      "execution_count": 0,
      "outputs": []
    },
    {
      "cell_type": "code",
      "metadata": {
        "id": "8eBPMEwUWfNM",
        "colab_type": "code",
        "outputId": "ebd6ad16-97a4-4573-cedd-5f38714a6ee9",
        "colab": {
          "base_uri": "https://localhost:8080/",
          "height": 286
        }
      },
      "source": [
        "\"\"\"\n",
        "This is a binomial data distribution.\n",
        "I use beta prior and posterior\n",
        "\"\"\"\n",
        "x = np.linspace(0,1,100)\n",
        "\n",
        "prior = sts.beta.pdf(x,0.6,0.4) #beta prior with prior mean 0.6 and effective sample size 1\n",
        "\n",
        "#plot the prior\n",
        "plt.plot(x,prior)"
      ],
      "execution_count": 0,
      "outputs": [
        {
          "output_type": "execute_result",
          "data": {
            "text/plain": [
              "[<matplotlib.lines.Line2D at 0x7f3f46f419e8>]"
            ]
          },
          "metadata": {
            "tags": []
          },
          "execution_count": 33
        },
        {
          "output_type": "display_data",
          "data": {
            "image/png": "[encoded data removed]",
            "text/plain": [
              "<Figure size 432x288 with 1 Axes>"
            ]
          },
          "metadata": {
            "tags": []
          }
        }
      ]
    },
    {
      "cell_type": "code",
      "metadata": {
        "id": "d1HEYEO11oeV",
        "colab_type": "code",
        "outputId": "eb62c430-311c-4184-e210-da2ebaadda45",
        "colab": {
          "base_uri": "https://localhost:8080/",
          "height": 286
        }
      },
      "source": [
        "posterior = sts.beta.pdf(x,0.6+107,0.4+34)\n",
        "\n",
        "plt.plot(x,posterior)"
      ],
      "execution_count": 0,
      "outputs": [
        {
          "output_type": "execute_result",
          "data": {
            "text/plain": [
              "[<matplotlib.lines.Line2D at 0x7f3f48a006a0>]"
            ]
          },
          "metadata": {
            "tags": []
          },
          "execution_count": 10
        },
        {
          "output_type": "display_data",
          "data": {
            "image/png": "[encoded data removed]",
            "text/plain": [
              "<Figure size 432x288 with 1 Axes>"
            ]
          },
          "metadata": {
            "tags": []
          }
        }
      ]
    },
    {
      "cell_type": "markdown",
      "metadata": {
        "id": "XQZvP65hWfNO",
        "colab_type": "text"
      },
      "source": [
        "## Task 2: Questions, predictions, and decisions\n",
        "1. Posterior predictive distribution: Use your model to predict how many patients would improve if we treated 100 new eczema patients using SIT. Express your answer as a probability distribution over the number of patients improved.\n",
        "2. Use your posterior to answer these questions:\n",
        "    1. What is the probability that at least two thirds of eczema patients get better with SIT?\n",
        "    2. What is the probability that at least 75% of eczema patients get better with SIT?\n",
        "3. Use your model to decide whether the treatment works or not. Motivate your answer."
      ]
    },
    {
      "cell_type": "code",
      "metadata": {
        "id": "FxjdzNytWfNP",
        "colab_type": "code",
        "outputId": "53b2aaaf-1820-4f45-cf01-56e3092683c7",
        "colab": {
          "base_uri": "https://localhost:8080/",
          "height": 286
        }
      },
      "source": [
        "patients = [x for x in range(101)]\n",
        "\n",
        "p=sts.beta.rvs(0.6+107,0.4+34,size=100)\n",
        "\n",
        "pred=[]\n",
        "\n",
        "for prob in p:\n",
        "  pred.append(sts.binom.pmf(patients,100,prob))\n",
        "\n",
        "plt.plot(patients,sum(pred)/100)"
      ],
      "execution_count": 0,
      "outputs": [
        {
          "output_type": "execute_result",
          "data": {
            "text/plain": [
              "[<matplotlib.lines.Line2D at 0x7f3f46ffba90>]"
            ]
          },
          "metadata": {
            "tags": []
          },
          "execution_count": 31
        },
        {
          "output_type": "display_data",
          "data": {
            "image/png": "[encoded data removed]",
            "text/plain": [
              "<Figure size 432x288 with 1 Axes>"
            ]
          },
          "metadata": {
            "tags": []
          }
        }
      ]
    },
    {
      "cell_type": "code",
      "metadata": {
        "id": "8ZTeZGHIEeNH",
        "colab_type": "code",
        "outputId": "e1d6430b-298e-49cc-ab7d-dc64ae35fc40",
        "colab": {
          "base_uri": "https://localhost:8080/",
          "height": 34
        }
      },
      "source": [
        "from scipy.special import beta\n",
        "\n",
        "beta(0.6+107,0.4+34)"
      ],
      "execution_count": 0,
      "outputs": [
        {
          "output_type": "execute_result",
          "data": {
            "text/plain": [
              "3.5305973286696505e-35"
            ]
          },
          "metadata": {
            "tags": []
          },
          "execution_count": 35
        }
      ]
    }
  ]
}