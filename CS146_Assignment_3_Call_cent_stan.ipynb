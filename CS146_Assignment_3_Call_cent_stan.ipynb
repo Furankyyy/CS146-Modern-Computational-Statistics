{
  "nbformat": 4,
  "nbformat_minor": 0,
  "metadata": {
    "colab": {
      "name": "CS146 Assignment 3.ipynb",
      "provenance": [],
      "include_colab_link": true
    },
    "kernelspec": {
      "name": "python3",
      "display_name": "Python 3"
    }
  },
  "cells": [
    {
      "cell_type": "markdown",
      "metadata": {
        "id": "view-in-github",
        "colab_type": "text"
      },
      "source": [
        "<a href=\"https://colab.research.google.com/github/Furankyyy/CS146-Modern-Computational-Statistics/blob/master/CS146_Assignment_3_Call_cent_stan.ipynb\" target=\"_parent\"><img src=\"https://colab.research.google.com/assets/colab-badge.svg\" alt=\"Open In Colab\"/></a>"
      ]
    },
    {
      "cell_type": "markdown",
      "metadata": {
        "id": "K0kCB2sq9S9i",
        "colab_type": "text"
      },
      "source": [
        "# CS146 Assignment 3"
      ]
    },
    {
      "cell_type": "markdown",
      "metadata": {
        "id": "6MdFNm0J-m-Y",
        "colab_type": "text"
      },
      "source": [
        "**Ziquan Fu**\n",
        "\n",
        "**2019.10**"
      ]
    },
    {
      "cell_type": "code",
      "metadata": {
        "id": "dxuUxRVQJuWG",
        "colab_type": "code",
        "colab": {}
      },
      "source": [
        "import numpy as np\n",
        "import matplotlib.pyplot as plt\n",
        "from scipy import stats\n",
        "import pystan"
      ],
      "execution_count": 0,
      "outputs": []
    },
    {
      "cell_type": "markdown",
      "metadata": {
        "id": "OF41tWQ_EAEK",
        "colab_type": "text"
      },
      "source": [
        "## Implement Models in Stan"
      ]
    },
    {
      "cell_type": "markdown",
      "metadata": {
        "id": "LD8WVH4yEKBF",
        "colab_type": "text"
      },
      "source": [
        "### 1. Call Center Data"
      ]
    },
    {
      "cell_type": "markdown",
      "metadata": {
        "id": "-GCGnSJVZASv",
        "colab_type": "text"
      },
      "source": [
        "**Preprocess the data**"
      ]
    },
    {
      "cell_type": "code",
      "metadata": {
        "id": "Gy3Jg1-shj3M",
        "colab_type": "code",
        "colab": {}
      },
      "source": [
        "waiting_times_day = np.loadtxt(\"https://course-resources.minerva.kgi.edu/uploaded_files/mke/00124343-8397/call-center.csv\")"
      ],
      "execution_count": 0,
      "outputs": []
    },
    {
      "cell_type": "code",
      "metadata": {
        "id": "wjg0KsjDtmz4",
        "colab_type": "code",
        "colab": {}
      },
      "source": [
        "current_time = 0\n",
        "waiting_times_per_hour = [[] for _ in range(24)]  # Make 24 empty lists, one per hour\n",
        "for t in waiting_times_day:\n",
        "    current_hour = int(current_time // 60)\n",
        "    current_time += t\n",
        "    waiting_times_per_hour[current_hour].append(t)"
      ],
      "execution_count": 0,
      "outputs": []
    },
    {
      "cell_type": "markdown",
      "metadata": {
        "id": "dhrFFRfH0495",
        "colab_type": "text"
      },
      "source": [
        "**Stan modeling**"
      ]
    },
    {
      "cell_type": "markdown",
      "metadata": {
        "id": "5zC4HYJW0-rt",
        "colab_type": "text"
      },
      "source": [
        "Stan code for the statistical model."
      ]
    },
    {
      "cell_type": "markdown",
      "metadata": {
        "id": "FXCxtgdGqTv3",
        "colab_type": "text"
      },
      "source": [
        "The model is given by:\n",
        "\n",
        "$\\lambda\\sim\\Gamma(\\alpha,\\,\\beta)$\n",
        "\n",
        "$X_i\\sim \\exp(\\lambda)$\n",
        "\n",
        "where $X_i$ is the individual waiting time.\n"
      ]
    },
    {
      "cell_type": "code",
      "metadata": {
        "id": "g2_A1d1lZQpc",
        "colab_type": "code",
        "colab": {}
      },
      "source": [
        "stan_code_exponential = \"\"\"\n",
        "\n",
        "data {\n",
        "    int<lower=0> num_data;\n",
        "    real<lower=0> waiting_times[num_data];  // number of improved patients per trial\n",
        "    real<lower=0> alpha;  // fixed prior hyperparameter\n",
        "    real<lower=0> beta;   // fixed prior hyperparameter\n",
        "}\n",
        "\n",
        "parameters {\n",
        "    real<lower=0> lambda;  // rate parameter of the exponential distribution\n",
        "}\n",
        "\n",
        "model {\n",
        "    lambda ~ gamma(alpha, beta);  // prior over lambda\n",
        "    for (i in 1:num_data){\n",
        "        waiting_times[i] ~ exponential(lambda); // likelihood function\n",
        "      }\n",
        "}\n",
        "\n",
        "\n",
        "\"\"\""
      ],
      "execution_count": 0,
      "outputs": []
    },
    {
      "cell_type": "markdown",
      "metadata": {
        "id": "ZS17MX1u2_ix",
        "colab_type": "text"
      },
      "source": [
        "The data for the call center model."
      ]
    },
    {
      "cell_type": "code",
      "metadata": {
        "id": "nXi-HMUic29W",
        "colab_type": "code",
        "colab": {}
      },
      "source": [
        "data_call_center = {\n",
        "    'num_data': len(waiting_times_per_hour[13]),\n",
        "    'waiting_times': waiting_times_per_hour[13],\n",
        "    'alpha': 1,\n",
        "    'beta':0.25\n",
        "}"
      ],
      "execution_count": 0,
      "outputs": []
    },
    {
      "cell_type": "markdown",
      "metadata": {
        "id": "eYry6l183Eau",
        "colab_type": "text"
      },
      "source": [
        "Then, compile and sample from the stan model"
      ]
    },
    {
      "cell_type": "code",
      "metadata": {
        "id": "b_1w3k9Wdclq",
        "colab_type": "code",
        "outputId": "042a8782-1896-454d-ae45-645974328666",
        "colab": {
          "base_uri": "https://localhost:8080/",
          "height": 34
        }
      },
      "source": [
        "stan_call_center = pystan.StanModel(model_code=stan_code_exponential)"
      ],
      "execution_count": 0,
      "outputs": [
        {
          "output_type": "stream",
          "text": [
            "INFO:pystan:COMPILING THE C++ CODE FOR MODEL anon_model_a27644e5132f22ee6ee2267c9ff3896e NOW.\n"
          ],
          "name": "stderr"
        }
      ]
    },
    {
      "cell_type": "code",
      "metadata": {
        "id": "PbxpaGdldmbc",
        "colab_type": "code",
        "colab": {}
      },
      "source": [
        "results_call_center = stan_call_center.sampling(data=data_call_center)"
      ],
      "execution_count": 0,
      "outputs": []
    },
    {
      "cell_type": "markdown",
      "metadata": {
        "id": "VNN2zhG13XHV",
        "colab_type": "text"
      },
      "source": [
        "**Result**"
      ]
    },
    {
      "cell_type": "markdown",
      "metadata": {
        "id": "_oY-qEjW3Le_",
        "colab_type": "text"
      },
      "source": [
        "Print the result, the 98% confidence interval."
      ]
    },
    {
      "cell_type": "code",
      "metadata": {
        "id": "8Sdp4hh_eFGz",
        "colab_type": "code",
        "outputId": "19e8215b-00c6-4e5e-ca1c-70472fe12295",
        "colab": {
          "base_uri": "https://localhost:8080/",
          "height": 221
        }
      },
      "source": [
        "print('Result:')\n",
        "print(results_call_center.stansummary(pars=['lambda'], probs=[0.01, 0.99]))"
      ],
      "execution_count": 0,
      "outputs": [
        {
          "output_type": "stream",
          "text": [
            "Result:\n",
            "Inference for Stan model: anon_model_a27644e5132f22ee6ee2267c9ff3896e.\n",
            "4 chains, each with iter=2000; warmup=1000; thin=1; \n",
            "post-warmup draws per chain=1000, total post-warmup draws=4000.\n",
            "\n",
            "         mean se_mean     sd     1%    99%  n_eff   Rhat\n",
            "lambda   6.33  8.7e-3   0.33   5.58   7.12   1454    1.0\n",
            "\n",
            "Samples were drawn using NUTS at Sat Oct 19 21:50:11 2019.\n",
            "For each parameter, n_eff is a crude measure of effective sample size,\n",
            "and Rhat is the potential scale reduction factor on split chains (at \n",
            "convergence, Rhat=1).\n"
          ],
          "name": "stdout"
        }
      ]
    },
    {
      "cell_type": "markdown",
      "metadata": {
        "id": "zBYI-iQG45Pg",
        "colab_type": "text"
      },
      "source": [
        "The 98% confidence interval of the stan model is [5.64,7.09]. The result from the theoretical posterior computation from the class is [5.6,7.1]. The result matches very well."
      ]
    },
    {
      "cell_type": "markdown",
      "metadata": {
        "id": "X-luqB7V3Ph1",
        "colab_type": "text"
      },
      "source": [
        "Visualize the result."
      ]
    },
    {
      "cell_type": "code",
      "metadata": {
        "id": "F4kFXYwU5UF5",
        "colab_type": "code",
        "outputId": "91d37e40-610d-430d-d674-fdc5cbed0c67",
        "colab": {
          "base_uri": "https://localhost:8080/",
          "height": 314
        }
      },
      "source": [
        "call_center_samples = results_call_center.extract() # Extract posterior samples of the parameter\n",
        "\n",
        "plt.hist(call_center_samples['lambda'], bins=40)\n",
        "plt.title('Histogram of posterior lambda')\n",
        "plt.xlabel('$\\lambda$')\n",
        "plt.ylabel('Counts')"
      ],
      "execution_count": 0,
      "outputs": [
        {
          "output_type": "execute_result",
          "data": {
            "text/plain": [
              "Text(0, 0.5, 'Counts')"
            ]
          },
          "metadata": {
            "tags": []
          },
          "execution_count": 9
        },
        {
          "output_type": "display_data",
          "data": {
            "image/png": "[encoded data removed]",
            "text/plain": [
              "<Figure size 432x288 with 1 Axes>"
            ]
          },
          "metadata": {
            "tags": []
          }
        }
      ]
    },
    {
      "cell_type": "markdown",
      "metadata": {
        "id": "X8gJjtuN6Qku",
        "colab_type": "text"
      },
      "source": [
        "### 2. Normal Likelihood with Normal-inverse-gamma Prior"
      ]
    },
    {
      "cell_type": "markdown",
      "metadata": {
        "id": "9lDY0skuRnM5",
        "colab_type": "text"
      },
      "source": [
        "**Input the data**"
      ]
    },
    {
      "cell_type": "code",
      "metadata": {
        "id": "8CTmUGPc6fp9",
        "colab_type": "code",
        "colab": {}
      },
      "source": [
        "data = np.array([3.54551763569501, 4.23799861761927, 4.72138425951628, -0.692265320368236, 3.04473513808788, 3.10721270732507, 3.42982225852764, 3.12153903971176, 3.60532628639808, 2.46561737557325, 1.64059465916131, 2.4621623937158, 2.76744495617481, 2.11580054750407, 5.14077208608354, 4.90288499104252, 1.43357579078348, 4.78997817363558, 1.93633438207439, 2.43698838097178, 3.95389148701877, 2.4242295507716, 2.90256268679023, 2.90931728045901, 0.658072819386888, 3.05946763895983, 3.42615331539605, 2.68842833004417, 2.35850130765166, 2.20014998540933, 4.73846511350084, 4.19839721414451, 2.11805510171691, -0.572742936038015, 0.389413982010623, 3.87846130744249, 1.34057656890858, 0.7235748351719, 5.11042369840174, 4.00747556696571, 3.18080956726965, 3.24677964069676, 5.1154659863626, 1.80276616697155, 0.305877679021404, -0.449168307882718, 4.63705561194774, 1.37783714058301, 4.9608149859515, 6.7764195802069, 1.75515522922399, 7.04457337435215, 0.625185284955128, 2.25130734369064, 2.19770178119255, 2.16858257249432, 6.25367644481438, 0.116081323476489, 2.06315857864341, 1.82409781471718, 5.15226741230987, 2.03408231293173, -1.12450854337596, 5.03511270642234, 2.03841989653263, 5.80911741751597, 2.31718128783245, 4.97575010580997, 3.34262752222776, -0.786983904253601, 0.777362359850013, 0.975825009321195, 3.76354577515958, 7.27215002907876, 1.35404089480189, 3.76567940257157, 3.48573993343334, 1.85976988586156, 1.93567061960716, 5.31071812003942, 2.96832987672751, 3.32378908637275, 2.61631960054551, 5.80897964052825, 4.95215217171488, 1.32036772796131, 3.79932542233371, 3.08108492766309, 2.6734110081666, -0.14251851138521, 2.48744375588965, 3.98463042123415, 6.32781680028, 4.0029172024315, 4.23210369459457, 1.71412938967325, 5.16492114963802, 2.53409673107906, 4.77346963973334, 3.34088878725551, 4.77681472750664, 3.81135755590976, 1.14054269983137, 1.42057452397702, 0.132142311125433, 7.12577254064672, 4.85422012781764, 4.15745720676399, 4.48763147363348, 1.56060322283629, 2.64821761542887, 1.26655351354548, 4.48497722937931, 4.3286302403783, 4.26157679512625, 4.0597558651364, 5.14051109132496, 2.5660348362221, 1.10764013818617, 0.386889523012303, 3.54150473246237, 3.57480214382351, 1.95150869584847, 2.70688970563118, 2.47971849820016, 6.50838037000679, 4.01511556826974, 1.11562740835344, 5.02637639472439, 4.38184491686864, 5.60423144047386, 2.40067408379298, 5.7849941378344, 2.37225791084559, 6.86031465910273, 4.09214858239736, 6.85994063692621, 3.62202415158781, -1.11220646958158, 3.73920971696866, 3.24533871512216, 1.28724203643002, 0.291152541773164, 0.368630935755111, 6.71607270510525, 5.42278455200833, 5.35188416119281, 2.305874586163, -1.85878097203032, 2.69877382351447, 4.84121860550417, 4.40973060799391, 5.04399320650774, 2.68632252661298, 6.06531610659912, 3.11881325011993, 3.45532087005125, 3.08442259840346, 4.43564424136733, 2.84252623135804, 1.50536798885106, 1.48868622407603, 2.07322837615663, 2.5476910210998, 5.66941808257884, 2.16731067416426, 2.49843958833905, 3.94586413879977, 0.316433764679541, -0.608937441815983, 2.5943436558557, 1.05516869528337, 2.1447601332725, 6.65846634141906, 2.1771555267834, 5.23953812029442, 3.53629759842647, 6.03263538017003, 3.85739159396599, 5.95093453004638, 1.12856987160476, 3.5559912886093, 2.21974864244489, 3.38471394882135, -1.90805399279409, 3.5113699258973, 4.49319955412346, 5.10507952638867, 1.08277895384184, 4.58403638422759, 1.37304994426824, 4.17566975753523, 3.36454182510378, 0.177136582644021, 2.91337423388405, 3.22796455457526, 2.80124198378441, 1.95189718582788, 3.37659263896246, -1.6463045238231])"
      ],
      "execution_count": 0,
      "outputs": []
    },
    {
      "cell_type": "markdown",
      "metadata": {
        "id": "D7DdKBUhqDRm",
        "colab_type": "text"
      },
      "source": [
        "**Stan modeling**"
      ]
    },
    {
      "cell_type": "markdown",
      "metadata": {
        "id": "bEWLKCFMrQnV",
        "colab_type": "text"
      },
      "source": [
        "The model is given by:\n",
        "\n",
        "$\\sigma^{2}\\sim\\Gamma^{-1}(\\alpha,\\,\\beta)$\n",
        "\n",
        "$x\\sim N(\\mu,\\sigma^{2}/\\nu)$\n",
        "\n",
        "$D_i\\sim N(x,\\sigma^{2})$\n",
        "\n",
        "where $D_i$ is the data points, $x$ is the mean, $\\sigma^2$ is the variance, and $\\mu, \\nu, \\alpha, \\beta$ are prior parameters of $x$ and $\\sigma^2$."
      ]
    },
    {
      "cell_type": "code",
      "metadata": {
        "id": "CezAonztimLP",
        "colab_type": "code",
        "colab": {}
      },
      "source": [
        "stan_code_normal = \"\"\"\n",
        "\n",
        "data {\n",
        "    int<lower=0> num_data; //number of data points\n",
        "    real D[num_data]; //data\n",
        "    real mu;  // mean of x\n",
        "    real<lower=0> alpha;  // fixed prior hyperparameter\n",
        "    real<lower=0> beta;   // fixed prior hyperparameter\n",
        "    real<lower=0> nu; // fixed prior hyperparameter\n",
        "}\n",
        "\n",
        "parameters {\n",
        "    real sigma2; //variance of the normal distribution\n",
        "    real x;  // mean of the normal distribution\n",
        "\n",
        "}\n",
        "\n",
        "model {\n",
        "    sigma2 ~ inv_gamma(alpha,beta);\n",
        "    x ~ normal(mu, sqrt(sigma2/nu)); //Stan uses the standard deviation as the input of normal distribution, so take the square root of the variance\n",
        "    for (i in 1:num_data){\n",
        "        D[i] ~ normal(x, sqrt(sigma2)); \n",
        "    }\n",
        "       \n",
        "}\n",
        "\n",
        "\"\"\""
      ],
      "execution_count": 0,
      "outputs": []
    },
    {
      "cell_type": "markdown",
      "metadata": {
        "id": "nfjjgB3t7NHr",
        "colab_type": "text"
      },
      "source": [
        "The dictionary for the inputs of the model."
      ]
    },
    {
      "cell_type": "code",
      "metadata": {
        "id": "tPVoXVNqrGSR",
        "colab_type": "code",
        "colab": {}
      },
      "source": [
        "normal_data = {\n",
        "    'num_data': len(data),\n",
        "    'D': data,\n",
        "    'mu': 0,\n",
        "    'alpha': 1.12,\n",
        "    'beta': 0.4,\n",
        "    'nu': 0.054,\n",
        "}"
      ],
      "execution_count": 0,
      "outputs": []
    },
    {
      "cell_type": "markdown",
      "metadata": {
        "id": "4QnTU6rZ7L8i",
        "colab_type": "text"
      },
      "source": [
        "Compile the model"
      ]
    },
    {
      "cell_type": "code",
      "metadata": {
        "id": "HWuKQCa5uoZh",
        "colab_type": "code",
        "outputId": "7761d1cf-470e-4209-a4f2-f5f0936c3d24",
        "colab": {
          "base_uri": "https://localhost:8080/",
          "height": 34
        }
      },
      "source": [
        "stan_normal = pystan.StanModel(model_code=stan_code_normal)"
      ],
      "execution_count": 0,
      "outputs": [
        {
          "output_type": "stream",
          "text": [
            "INFO:pystan:COMPILING THE C++ CODE FOR MODEL anon_model_66852fb67ea6e0f643c2bfc6b3c6a3c8 NOW.\n"
          ],
          "name": "stderr"
        }
      ]
    },
    {
      "cell_type": "code",
      "metadata": {
        "id": "lauMm4cVww8D",
        "colab_type": "code",
        "colab": {}
      },
      "source": [
        "results_normal = stan_normal.sampling(data=normal_data)"
      ],
      "execution_count": 0,
      "outputs": []
    },
    {
      "cell_type": "markdown",
      "metadata": {
        "id": "XI1KO87T7UFI",
        "colab_type": "text"
      },
      "source": [
        "**Results**"
      ]
    },
    {
      "cell_type": "code",
      "metadata": {
        "id": "a3fspZOgyp_l",
        "colab_type": "code",
        "outputId": "62a5bf4e-7325-42f1-98c2-69f16040366d",
        "colab": {
          "base_uri": "https://localhost:8080/",
          "height": 238
        }
      },
      "source": [
        "print('Result:')\n",
        "print(results_normal.stansummary(pars=['x','sigma2'], probs=[0.025, 0.975]))"
      ],
      "execution_count": 0,
      "outputs": [
        {
          "output_type": "stream",
          "text": [
            "Result:\n",
            "Inference for Stan model: anon_model_66852fb67ea6e0f643c2bfc6b3c6a3c8.\n",
            "4 chains, each with iter=2000; warmup=1000; thin=1; \n",
            "post-warmup draws per chain=1000, total post-warmup draws=4000.\n",
            "\n",
            "         mean se_mean     sd   2.5%  97.5%  n_eff   Rhat\n",
            "x        3.06  2.3e-3   0.14   2.79   3.34   3565    1.0\n",
            "sigma2   3.61  6.2e-3   0.36   2.98    4.4   3362    1.0\n",
            "\n",
            "Samples were drawn using NUTS at Sat Oct 19 21:51:18 2019.\n",
            "For each parameter, n_eff is a crude measure of effective sample size,\n",
            "and Rhat is the potential scale reduction factor on split chains (at \n",
            "convergence, Rhat=1).\n"
          ],
          "name": "stdout"
        }
      ]
    },
    {
      "cell_type": "markdown",
      "metadata": {
        "id": "Y-wt5MRI7XXu",
        "colab_type": "text"
      },
      "source": [
        "The 95% interval result matches the theoretical result in class."
      ]
    },
    {
      "cell_type": "markdown",
      "metadata": {
        "id": "Ki1H-qtA7dhd",
        "colab_type": "text"
      },
      "source": [
        "Next, generate 10 posterior samples to plot 10 posterior distributions."
      ]
    },
    {
      "cell_type": "code",
      "metadata": {
        "id": "PNio58PKyxtg",
        "colab_type": "code",
        "colab": {}
      },
      "source": [
        "normal_samples = results_normal.extract() # Extract posterior samples of the parameter\n",
        "\n",
        "# Generate 10 samples\n",
        "random_sample = np.random.randint(0,4000,size=10) \n",
        "\n",
        "# Extract the 10 means and variances\n",
        "mean = [normal_samples['x'][i] for i in random_sample] \n",
        "variance = [normal_samples['sigma2'][i] for i in random_sample]"
      ],
      "execution_count": 0,
      "outputs": []
    },
    {
      "cell_type": "code",
      "metadata": {
        "id": "v4qC1_tAfMAa",
        "colab_type": "code",
        "outputId": "ae154733-545f-48fa-97cf-8a36939f2218",
        "colab": {
          "base_uri": "https://localhost:8080/",
          "height": 298
        }
      },
      "source": [
        "# Plot the results\n",
        "plot_x = np.linspace(-15,15,100)\n",
        "for i in range(10):\n",
        "    plt.plot(plot_x,stats.norm.pdf(plot_x,mean[i],np.sqrt(variance[i])))\n",
        "plt.title('Ten sample distributions from the posterior')"
      ],
      "execution_count": 0,
      "outputs": [
        {
          "output_type": "execute_result",
          "data": {
            "text/plain": [
              "Text(0.5, 1.0, 'Ten sample distributions from the posterior')"
            ]
          },
          "metadata": {
            "tags": []
          },
          "execution_count": 17
        },
        {
          "output_type": "display_data",
          "data": {
            "image/png": "[encoded data removed]",
            "text/plain": [
              "<Figure size 432x288 with 1 Axes>"
            ]
          },
          "metadata": {
            "tags": []
          }
        }
      ]
    },
    {
      "cell_type": "markdown",
      "metadata": {
        "id": "0q1JtmfQ7w6W",
        "colab_type": "text"
      },
      "source": [
        "The plot shows that the posterior samples are very close to each other, meaning that the posterior distribution is very clustered. The plot resembles the one in the class activity."
      ]
    },
    {
      "cell_type": "markdown",
      "metadata": {
        "id": "HwV_f2bf3fqS",
        "colab_type": "text"
      },
      "source": [
        "### 3. Log-normal HRTEM Data"
      ]
    },
    {
      "cell_type": "markdown",
      "metadata": {
        "id": "-EkjjL3Hsd7M",
        "colab_type": "text"
      },
      "source": [
        "**Import data**"
      ]
    },
    {
      "cell_type": "code",
      "metadata": {
        "id": "NVsV6qAzw1LT",
        "colab_type": "code",
        "colab": {}
      },
      "source": [
        "hrtem = np.loadtxt('https://course-resources.minerva.kgi.edu/uploaded_files/mke/00075398-1635/hrtem.csv')\n",
        "\n",
        "# Log-transform data\n",
        "log_hrtem = np.log(hrtem)"
      ],
      "execution_count": 0,
      "outputs": []
    },
    {
      "cell_type": "markdown",
      "metadata": {
        "id": "ZaCyixfhsfgr",
        "colab_type": "text"
      },
      "source": [
        "**Stan modeling**"
      ]
    },
    {
      "cell_type": "markdown",
      "metadata": {
        "id": "FU_Dl50Msi8_",
        "colab_type": "text"
      },
      "source": [
        "Similar to question 2, the model is given by:\n",
        "\n",
        "$\\sigma^{2}\\sim\\Gamma^{-1}(\\alpha,\\,\\beta)$\n",
        "\n",
        "$x\\sim N(\\mu,\\sigma^{2}/\\nu)$\n",
        "\n",
        "$D_i\\sim N(x,\\sigma^{2})$\n",
        "\n",
        "where $D_i$ is the data points, $x$ is the mean, $\\sigma^2$ is the variance, and $\\mu, \\nu, \\alpha, \\beta$ are prior parameters of $x$ and $\\sigma^2$."
      ]
    },
    {
      "cell_type": "code",
      "metadata": {
        "id": "W81L6ou5xpQb",
        "colab_type": "code",
        "colab": {}
      },
      "source": [
        "stan_code_lognorm = \"\"\"\n",
        "\n",
        "data {\n",
        "    int<lower=0> num_data; //number of data points\n",
        "    real<lower=0> D[num_data]; //data\n",
        "    real mu;  // mean of x\n",
        "    real<lower=0> alpha;  // fixed prior hyperparameter\n",
        "    real<lower=0> beta;   // fixed prior hyperparameter\n",
        "    real<lower=0> nu; // fixed prior hyperparameter\n",
        "}\n",
        "\n",
        "parameters {\n",
        "    real sigma2; //variance of the normal distribution\n",
        "    real x;  // mean of the normal distribution\n",
        "\n",
        "}\n",
        "\n",
        "model {\n",
        "    sigma2 ~ inv_gamma(alpha,beta);\n",
        "    x ~ normal(mu, sqrt(sigma2/nu)); //Stan uses the standard deviation as the input of normal distribution, so take the square root of the variance\n",
        "    for (i in 1:num_data){\n",
        "        D[i] ~ normal(x,sqrt(sigma2));\n",
        "    }\n",
        "       \n",
        "}\n",
        "\n",
        "\"\"\""
      ],
      "execution_count": 0,
      "outputs": []
    },
    {
      "cell_type": "markdown",
      "metadata": {
        "id": "Hd1qYQXc_DVw",
        "colab_type": "text"
      },
      "source": [
        "The input of the model. The data should be log-transformed."
      ]
    },
    {
      "cell_type": "code",
      "metadata": {
        "id": "iMY2VPZZDoWy",
        "colab_type": "code",
        "colab": {}
      },
      "source": [
        "lognorm_data = {\n",
        "    'num_data': len(log_hrtem),\n",
        "    'D': log_hrtem,\n",
        "    'mu': 2.3,\n",
        "    'alpha': 2,\n",
        "    'beta': 5,\n",
        "    'nu': 0.1,\n",
        "}"
      ],
      "execution_count": 0,
      "outputs": []
    },
    {
      "cell_type": "code",
      "metadata": {
        "id": "hm7eC9zfD9lg",
        "colab_type": "code",
        "outputId": "12072143-c7ab-4929-9b8b-1ca8d8d95665",
        "colab": {
          "base_uri": "https://localhost:8080/",
          "height": 34
        }
      },
      "source": [
        "stan_lognorm = pystan.StanModel(model_code=stan_code_lognorm)"
      ],
      "execution_count": 0,
      "outputs": [
        {
          "output_type": "stream",
          "text": [
            "INFO:pystan:COMPILING THE C++ CODE FOR MODEL anon_model_fdae47c8261e316295c7b1403bce8600 NOW.\n"
          ],
          "name": "stderr"
        }
      ]
    },
    {
      "cell_type": "code",
      "metadata": {
        "id": "jInYMw8ND-ND",
        "colab_type": "code",
        "colab": {}
      },
      "source": [
        "results_lognorm = stan_lognorm.sampling(data=lognorm_data)"
      ],
      "execution_count": 0,
      "outputs": []
    },
    {
      "cell_type": "markdown",
      "metadata": {
        "id": "0xXoVFXD--kf",
        "colab_type": "text"
      },
      "source": [
        "**Result**"
      ]
    },
    {
      "cell_type": "code",
      "metadata": {
        "id": "qVLYVTR5FOrm",
        "colab_type": "code",
        "outputId": "5ef9d6a7-b769-484a-98f3-6d462aea5606",
        "colab": {
          "base_uri": "https://localhost:8080/",
          "height": 238
        }
      },
      "source": [
        "print('Result:')\n",
        "print(results_lognorm.stansummary(pars=['x','sigma2'], probs=[0.025, 0.975]))"
      ],
      "execution_count": 0,
      "outputs": [
        {
          "output_type": "stream",
          "text": [
            "Result:\n",
            "Inference for Stan model: anon_model_fdae47c8261e316295c7b1403bce8600.\n",
            "4 chains, each with iter=2000; warmup=1000; thin=1; \n",
            "post-warmup draws per chain=1000, total post-warmup draws=4000.\n",
            "\n",
            "         mean se_mean     sd   2.5%  97.5%  n_eff   Rhat\n",
            "x        1.89  5.8e-4   0.03   1.83   1.95   2934    1.0\n",
            "sigma2    0.5  5.6e-4   0.03   0.44   0.56   3227    1.0\n",
            "\n",
            "Samples were drawn using NUTS at Sat Oct 19 21:52:29 2019.\n",
            "For each parameter, n_eff is a crude measure of effective sample size,\n",
            "and Rhat is the potential scale reduction factor on split chains (at \n",
            "convergence, Rhat=1).\n"
          ],
          "name": "stdout"
        }
      ]
    },
    {
      "cell_type": "markdown",
      "metadata": {
        "id": "8_NqZmrb_MqE",
        "colab_type": "text"
      },
      "source": [
        "Generate 10 samples and plot the posterior result."
      ]
    },
    {
      "cell_type": "code",
      "metadata": {
        "id": "KbpEbQuzfmjv",
        "colab_type": "code",
        "colab": {}
      },
      "source": [
        "lognorm_samples = results_lognorm.extract() # Extract posterior samples of the parameter\n",
        "\n",
        "# Generate 10 samples\n",
        "random_sample = np.random.randint(0,4000,size=10)\n",
        "\n",
        "# Obtain posterior samples\n",
        "mean_log = [lognorm_samples['x'][i] for i in random_sample]\n",
        "variance_log = [lognorm_samples['sigma2'][i] for i in random_sample]"
      ],
      "execution_count": 0,
      "outputs": []
    },
    {
      "cell_type": "code",
      "metadata": {
        "id": "lLcfobJbHRYI",
        "colab_type": "code",
        "outputId": "48fd98a6-b9af-4337-c781-0d2548e03dd3",
        "colab": {
          "base_uri": "https://localhost:8080/",
          "height": 298
        }
      },
      "source": [
        "# Plot the results\n",
        "log_plot_x = np.linspace(0,30,200)\n",
        "\n",
        "plt.hist(hrtem, bins=20, density=True, alpha=0.3)\n",
        "for i in range(10):\n",
        "    plt.plot(log_plot_x, stats.lognorm.pdf(log_plot_x,np.sqrt(variance_log)[i], scale=np.exp(mean_log)[i]))\n",
        "plt.title('Posterior log-normal distribution and histogram of HRTEM data')"
      ],
      "execution_count": 0,
      "outputs": [
        {
          "output_type": "execute_result",
          "data": {
            "text/plain": [
              "Text(0.5, 1.0, 'Posterior log-normal distribution and histogram of HRTEM data')"
            ]
          },
          "metadata": {
            "tags": []
          },
          "execution_count": 25
        },
        {
          "output_type": "display_data",
          "data": {
            "image/png": "[encoded data removed]",
            "text/plain": [
              "<Figure size 432x288 with 1 Axes>"
            ]
          },
          "metadata": {
            "tags": []
          }
        }
      ]
    },
    {
      "cell_type": "markdown",
      "metadata": {
        "id": "tbhjdB4S_XlR",
        "colab_type": "text"
      },
      "source": [
        "The ten posterior distribution are also very clustered and fit the data well."
      ]
    },
    {
      "cell_type": "markdown",
      "metadata": {
        "id": "T9RYIRSJeZeG",
        "colab_type": "text"
      },
      "source": [
        ""
      ]
    }
  ]
}